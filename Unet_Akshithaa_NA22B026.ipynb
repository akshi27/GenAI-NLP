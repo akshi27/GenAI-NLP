{
  "nbformat": 4,
  "nbformat_minor": 0,
  "metadata": {
    "colab": {
      "provenance": []
    },
    "kernelspec": {
      "name": "python3",
      "display_name": "Python 3"
    },
    "language_info": {
      "name": "python"
    }
  },
  "cells": [
    {
      "cell_type": "code",
      "execution_count": null,
      "metadata": {
        "id": "e4LbYoYl-c7K"
      },
      "outputs": [],
      "source": [
        "import torch\n",
        "import torch.nn as nn\n",
        "import torchvision.transforms as transforms\n",
        "import torchvision.transforms.functional as TF\n"
      ]
    },
    {
      "cell_type": "code",
      "source": [
        "class DoubleConv(nn.Module):\n",
        "  def __init__(self, in_channels, out_channels):\n",
        "    super(DoubleConv, self).__init__()\n",
        "    self.conv = nn.Sequential(\n",
        "        # Defining the 1st convolutional layer\n",
        "        nn.Conv2d(in_channels, out_channels, 3, 1, 1, bias=False), # 3x3 (kernel size=3) convolutional layer with stride=1 and padding=1\n",
        "        nn.BatchNorm2d(out_channels),\n",
        "        nn.ReLU(inplace=True),\n",
        "        # Defining the 2nd convolutional layer\n",
        "        nn.Conv2d(out_channels, out_channels, 3, 1, 1, bias=False), # 3x3 convolutional layer with stride=1 and padding=1\n",
        "        nn.BatchNorm2d(out_channels), # Batch Normalization\n",
        "        nn.ReLU(inplace=True), # ReLU activation function\n",
        "    )\n",
        "\n",
        "  def forward(self, x):\n",
        "    return self.conv(x)\n",
        "\n",
        "class UNET(nn.Module):\n",
        "  def __init__(self, in_channels=3, out_channels=1, features=[64, 128, 256, 512],): # In UNET, default value of in_channel=3 (RGB scale) and of out_channel=1 (grayscale)\n",
        "    super (UNET, self).__init__()\n",
        "    self.ups = nn.ModuleList() # defining the decoder path list\n",
        "    self.downs = nn.ModuleList() # defining the encoder path list\n",
        "    self.pool = nn.MaxPool2d(kernel_size=2, stride=2) # Max pooling layer with kernel size=2 and stride=2 while down-sampling\n",
        "\n",
        "    # Going down in UNET; in a contracting path(encoder/downgoing), no. of channels increase and spacial dimensions (resolution) decrease\n",
        "    for feature in features:\n",
        "      self.downs.append(DoubleConv(in_channels, feature)) # Add a down-sampling block (double convolution followed by max pooling) to the downs ModuleList\n",
        "      in_channels = feature # Update in_channels to feature for the next iteration\n",
        "\n",
        "    # Going up in UNET\n",
        "    for feature in reversed(features):\n",
        "      self.ups.append(nn.ConvTranspose2d(feature*2, feature, kernel_size=2, stride=2,)) # Transpose convolutional layer with kernel size=2 and stride=2 (transposing doubles the spatial dimensions of the subs. layers)\n",
        "      self.ups.append(DoubleConv(feature*2, feature)) # Adding a DoubleConv layer to ups list\n",
        "\n",
        "    # Defining a bottleneck block (double convolution) to connect the encoder and decoder paths\n",
        "    self.bottleneck = DoubleConv(features[-1], features[-1]*2) # Add a DoubleConv layer for the bottleneck\n",
        "    self.final_conv = nn.Conv2d(features[0], out_channels, kernel_size=1) # 1x1 convolutional layer for the final output\n",
        "\n",
        "  def forward(self, x):\n",
        "    skip_connections = []\n",
        "\n",
        "    # Passing input through the downsampling blocks and it stores the output feature maps (skip connections)\n",
        "    for down in self.downs:\n",
        "      x = down(x) # input tensor goes through normalization and activation and gets stored back here (in encoding path: reduced spacial dimensions and increased channel depth)\n",
        "      skip_connections.append(x)\n",
        "      x = self.pool(x)\n",
        "\n",
        "    # Passing the output feature map from the last downsampling block through the bottleneck block\n",
        "    x = self.bottleneck(x)\n",
        "    # Reversing the list of skip connections to align with the up-sampling blocks\n",
        "    skip_connections = skip_connections[::-1]\n",
        "\n",
        "    # Passing the bottleneck output through the upsampling blocks and concatenate with the corresponding skip connection\n",
        "    for i in range(0, len(self.ups), 2):\n",
        "      x = self.ups[i](x)\n",
        "      skip_connection = skip_connections[i//2]\n",
        "      if x.shape != skip_connection.shape:\n",
        "        x = TF.resize(x, size = skip_connection.shape[2:]) # Resizing the tensor if shapes don't match\n",
        "      concat_skip = torch.cat((skip_connection, x), dim=1) # Concatenating the upsampled feature map and the skip connection and pass through the double convolution block\n",
        "      x = self.ups[i+1](concat_skip)\n",
        "\n",
        "    return self.final_conv(x)\n",
        "\n",
        "# Testing if the prediction's shape matches the ouput's shape\n",
        "def test():\n",
        "  x = torch.randn((3, 1, 160, 160))\n",
        "  model = UNET(in_channels = 1, out_channels = 1)\n",
        "  prediction = model(x)\n",
        "  print(prediction.shape)\n",
        "  print(x.shape)\n",
        "  assert prediction.shape == x.shape\n",
        "\n",
        "if __name__ == \"__main__\":\n",
        "  test()\n",
        "\n"
      ],
      "metadata": {
        "colab": {
          "base_uri": "https://localhost:8080/"
        },
        "id": "ozLQizJC_BQO",
        "outputId": "93b0059b-a20b-4fdb-bee2-88499fbb42d0"
      },
      "execution_count": null,
      "outputs": [
        {
          "output_type": "stream",
          "name": "stdout",
          "text": [
            "torch.Size([3, 1, 160, 160])\n",
            "torch.Size([3, 1, 160, 160])\n"
          ]
        }
      ]
    }
  ]
}